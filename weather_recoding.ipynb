{
 "cells": [
  {
   "cell_type": "markdown",
   "id": "44d6a1e8",
   "metadata": {},
   "source": [
    "## Recode weather codes from open-meteo to custom clustering logic"
   ]
  },
  {
   "cell_type": "markdown",
   "id": "04e4444f",
   "metadata": {},
   "source": [
    "WMO Weather interpretation codes (WW) ([source](https://open-meteo.com/en/docs))\n",
    "\n",
    "| Code | Description |\n",
    "|------|-------------|\n",
    "| 0 | Clear sky |\n",
    "| 1, 2, 3 | Mainly clear, partly cloudy, and overcast |\n",
    "| 45, 48 | Fog and depositing rime fog |\n",
    "| 51, 53, 55 | Drizzle: Light, moderate, and dense intensity |\n",
    "| 56, 57 | Freezing Drizzle: Light and dense intensity |\n",
    "| 61, 63, 65 | Rain: Slight, moderate and heavy intensity |\n",
    "| 66, 67 | Freezing Rain: Light and heavy intensity |\n",
    "| 71, 73, 75 | Snow fall: Slight, moderate, and heavy intensity |\n",
    "| 77 | Snow grains |\n",
    "| 80, 81, 82 | Rain showers: Slight, moderate, and violent |\n",
    "| 85, 86 | Snow showers slight and heavy |\n",
    "| 95 * | Thunderstorm: Slight or moderate |\n",
    "| 96, 99 * | Thunderstorm with slight and heavy hail |\n",
    "\n",
    "(*) Thunderstorm forecast with hail is only available in Central Europe"
   ]
  },
  {
   "cell_type": "code",
   "execution_count": 16,
   "id": "b874cc03",
   "metadata": {},
   "outputs": [],
   "source": [
    "import pandas as pd"
   ]
  },
  {
   "cell_type": "code",
   "execution_count": 17,
   "id": "91246b21",
   "metadata": {},
   "outputs": [],
   "source": [
    "file_path = 'data/processed/weather_hourly_all_locations_2023.parquet'\n",
    "weather = pd.read_parquet(file_path)"
   ]
  },
  {
   "cell_type": "code",
   "execution_count": 18,
   "id": "1c4c49b3",
   "metadata": {},
   "outputs": [],
   "source": [
    "weather_clusters = {\n",
    "    \"clear_and_cloudy\": [0, 1, 2, 3],\n",
    "    \"precipitation\": [51, 53, 55, 61, 63, 65, 80, 81, 82],\n",
    "    \"frozen_precipitation\": [56, 57, 66, 67, 71, 73, 75, 77, 85, 86],\n",
    "    \"low_visibility\": [45, 48],\n",
    "    \"severe_weather\": [95, 96, 99]\n",
    "}\n",
    "\n",
    "code_to_cluster = {}\n",
    "for cluster_name, weather_codes in weather_clusters.items():\n",
    "    for code in weather_codes:\n",
    "        code_to_cluster[code] = cluster_name"
   ]
  },
  {
   "cell_type": "code",
   "execution_count": 19,
   "id": "ce3be562",
   "metadata": {},
   "outputs": [],
   "source": [
    "def map_code_to_cluster(code):\n",
    "    return code_to_cluster.get(code, \"Unknown\")\n",
    "\n",
    "weather['weather_cluster'] = weather['weather_code'].map(code_to_cluster)"
   ]
  },
  {
   "cell_type": "code",
   "execution_count": 20,
   "id": "340c2aa8",
   "metadata": {},
   "outputs": [],
   "source": [
    "weather.to_parquet(file_path, index=False, compression='brotli')  "
   ]
  }
 ],
 "metadata": {
  "kernelspec": {
   "display_name": "bike-project",
   "language": "python",
   "name": "python3"
  },
  "language_info": {
   "codemirror_mode": {
    "name": "ipython",
    "version": 3
   },
   "file_extension": ".py",
   "mimetype": "text/x-python",
   "name": "python",
   "nbconvert_exporter": "python",
   "pygments_lexer": "ipython3",
   "version": "3.11.11"
  }
 },
 "nbformat": 4,
 "nbformat_minor": 5
}
