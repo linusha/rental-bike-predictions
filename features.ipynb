{
 "cells": [
  {
   "cell_type": "markdown",
   "metadata": {},
   "source": [
    "# New Features (Time Based)"
   ]
  },
  {
   "cell_type": "code",
   "execution_count": 1,
   "metadata": {},
   "outputs": [],
   "source": [
    "import pandas as pd\n",
    "df = pd.read_parquet(\"data/final/demand_per_station_per_hour_with_weather.parquet\")"
   ]
  },
  {
   "cell_type": "code",
   "execution_count": null,
   "metadata": {},
   "outputs": [],
   "source": [
    "# Holiday\n",
    "import holidays\n",
    "hol = holidays.UnitedStates(years=2023)\n",
    "holiday_dates = set(hol.keys())\n",
    "df['isHoliday'] = df['hour'].dt.date.isin(holiday_dates)\n"
   ]
  },
  {
   "cell_type": "code",
   "execution_count": 20,
   "metadata": {},
   "outputs": [],
   "source": [
    "# Weekdays\n",
    "df['weekday'] = df['hour'].dt.weekday"
   ]
  },
  {
   "cell_type": "code",
   "execution_count": 21,
   "metadata": {},
   "outputs": [],
   "source": [
    "# Night\n",
    "df['night'] = df['hour'].dt.hour.apply(lambda h: h >= 21 or h < 6)"
   ]
  },
  {
   "cell_type": "code",
   "execution_count": null,
   "metadata": {},
   "outputs": [],
   "source": [
    "# Worktime\n",
    "df['workday'] = df['hour'].dt.hour.between(8, 16)"
   ]
  },
  {
   "cell_type": "code",
   "execution_count": 23,
   "metadata": {},
   "outputs": [],
   "source": [
    "# Commute (2 hours before and after start and end of worktime)\n",
    "df['commute'] = df['hour'].dt.hour.between(6, 10) | df['hour'].dt.hour.between(15, 19)"
   ]
  },
  {
   "cell_type": "markdown",
   "metadata": {},
   "source": [
    "# New Features (Station Based)"
   ]
  },
  {
   "cell_type": "code",
   "execution_count": 24,
   "metadata": {},
   "outputs": [],
   "source": [
    "df[\"delta\"] = df[\"arrivals\"] - df[\"departures\"]"
   ]
  },
  {
   "cell_type": "code",
   "execution_count": null,
   "metadata": {},
   "outputs": [],
   "source": [
    "night_df = df[df['night']]\n",
    "df.merge(night_df.groupby('station_name')['delta'].mean().reset_index(name='avg_delta_night'))\n"
   ]
  },
  {
   "cell_type": "code",
   "execution_count": null,
   "metadata": {},
   "outputs": [],
   "source": [
    "holiday_df = df[df[\"isHoliday\"]]\n",
    "df.merge(holiday_df.groupby('station_name')['delta'].mean().reset_index(name='avg_delta_holiday'))\n"
   ]
  }
 ],
 "metadata": {
  "kernelspec": {
   "display_name": "bike-project",
   "language": "python",
   "name": "python3"
  },
  "language_info": {
   "codemirror_mode": {
    "name": "ipython",
    "version": 3
   },
   "file_extension": ".py",
   "mimetype": "text/x-python",
   "name": "python",
   "nbconvert_exporter": "python",
   "pygments_lexer": "ipython3",
   "version": "3.11.11"
  }
 },
 "nbformat": 4,
 "nbformat_minor": 2
}
