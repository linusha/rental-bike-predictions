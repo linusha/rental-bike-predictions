{
 "cells": [
  {
   "cell_type": "markdown",
   "metadata": {},
   "source": [
    "# New Features (Time Based)"
   ]
  },
  {
   "cell_type": "code",
   "execution_count": 1,
   "metadata": {},
   "outputs": [],
   "source": [
    "import pandas as pd\n",
    "df = pd.read_parquet(\"data/final/demand_per_station_per_hour_with_weather.parquet\")"
   ]
  },
  {
   "cell_type": "markdown",
   "metadata": {},
   "source": [
    "## Ensure we have a row for each station/hour combination"
   ]
  },
  {
   "cell_type": "code",
   "execution_count": null,
   "metadata": {},
   "outputs": [],
   "source": [
    "df['hour'] = pd.to_datetime(df['hour'])\n",
    "full_time_index = pd.date_range(start=df['hour'].min(), end=df['hour'].max(), freq='h')\n",
    "stations = df['station_name'].unique()\n",
    "full_index = pd.MultiIndex.from_product([stations, full_time_index], names=['station_name', 'hour'])\n",
    "df_full = df.set_index(['station_name', 'hour']).reindex(full_index)\n",
    "df_full['departures'] = df_full['departures'].fillna(0)\n",
    "df_full['arrivals'] = df_full['arrivals'].fillna(0)\n",
    "df_full = df_full.reset_index()\n",
    "\n",
    "# After this, we need to rejoin the weather data!"
   ]
  },
  {
   "cell_type": "code",
   "execution_count": 16,
   "metadata": {},
   "outputs": [],
   "source": [
    "# Holiday\n",
    "import holidays\n",
    "hol = holidays.UnitedStates(years=2023)\n",
    "holiday_dates = set(hol.keys())\n",
    "df_full['isHoliday'] = df_full['hour'].dt.date.isin(holiday_dates)\n"
   ]
  },
  {
   "cell_type": "code",
   "execution_count": 12,
   "metadata": {},
   "outputs": [],
   "source": [
    "# Weekdays\n",
    "df_full['weekday'] = df_full['hour'].dt.weekday"
   ]
  },
  {
   "cell_type": "code",
   "execution_count": 13,
   "metadata": {},
   "outputs": [],
   "source": [
    "# Night\n",
    "df_full['night'] = df_full['hour'].dt.hour.apply(lambda h: h >= 21 or h < 6)"
   ]
  },
  {
   "cell_type": "code",
   "execution_count": null,
   "metadata": {},
   "outputs": [],
   "source": [
    "# Worktime\n",
    "df_full['workhours'] = (\n",
    "    df_full['hour'].dt.hour.between(8, 16) &\n",
    "    df_full['weekday'].between(0, 4) &\n",
    "    (~df_full['isHoliday'])\n",
    ")"
   ]
  },
  {
   "cell_type": "code",
   "execution_count": null,
   "metadata": {},
   "outputs": [],
   "source": [
    "# Commute (2 hours before and after start and end of worktime)\n",
    "df_full['commute'] = (\n",
    "    df_full['hour'].dt.hour.between(6, 10) | df_full['hour'].dt.hour.between(15, 19) &\n",
    "    df_full['weekday'].between(0, 4) &\n",
    "    (~df_full['isHoliday'])\n",
    "    )"
   ]
  },
  {
   "cell_type": "code",
   "execution_count": null,
   "metadata": {},
   "outputs": [],
   "source": [
    "df_full['free'] = (\n",
    "    df_full['weekday'].between(5, 6) |\n",
    "    df_full['isHoliday']\n",
    "    )"
   ]
  },
  {
   "cell_type": "code",
   "execution_count": 19,
   "metadata": {},
   "outputs": [],
   "source": [
    "df_full['day'] = df_full['hour'].dt.day\n",
    "df_full['month'] = df_full['hour'].dt.month\n",
    "df_full['year'] = df_full['hour'].dt.year"
   ]
  },
  {
   "cell_type": "code",
   "execution_count": 20,
   "metadata": {},
   "outputs": [],
   "source": [
    "counts = df_full.groupby('station_name').size().reset_index(name='row_count')"
   ]
  },
  {
   "cell_type": "markdown",
   "metadata": {},
   "source": [
    "# New Features (Station Based)"
   ]
  },
  {
   "cell_type": "markdown",
   "metadata": {},
   "source": [
    "- pro Station: average delta / average arrivals / average depratures + für alles varianz/sd\n"
   ]
  },
  {
   "cell_type": "code",
   "execution_count": null,
   "metadata": {},
   "outputs": [],
   "source": [
    "df_full[\"delta\"] = df_full[\"arrivals\"] - df_full[\"departures\"]\n",
    "\n",
    "df_full['var_delta_station_total'] = (\n",
    "    df_full\n",
    "      .groupby('station_name')['delta']\n",
    "      .transform('var')\n",
    ")\n"
   ]
  },
  {
   "cell_type": "code",
   "execution_count": 26,
   "metadata": {},
   "outputs": [],
   "source": [
    "df_full['avg_delta_station_total'] = (\n",
    "    df_full\n",
    "      .groupby('station_name')['delta']\n",
    "      .transform('mean')\n",
    ")"
   ]
  },
  {
   "cell_type": "code",
   "execution_count": null,
   "metadata": {},
   "outputs": [],
   "source": [
    "df_full['avg_arrivals_station_total'] = (\n",
    "    df_full\n",
    "      .groupby('station_name')['arrivals']\n",
    "      .transform('mean')\n",
    ")\n",
    "df_full['avg_departures_station_total'] = (\n",
    "    df_full\n",
    "      .groupby('station_name')['departures']\n",
    "      .transform('mean')\n",
    ")\n",
    "df_full['var_arrivals_station_total'] = (\n",
    "    df_full\n",
    "      .groupby('station_name')['arrivals']\n",
    "      .transform('var')\n",
    ")\n",
    "df_full['var_departures_station_total'] = (\n",
    "    df_full\n",
    "      .groupby('station_name')['departures']\n",
    "      .transform('var')\n",
    ")"
   ]
  },
  {
   "cell_type": "code",
   "execution_count": null,
   "metadata": {},
   "outputs": [
    {
     "ename": "",
     "evalue": "",
     "output_type": "error",
     "traceback": [
      "\u001b[1;31mThe Kernel crashed while executing code in the current cell or a previous cell. \n",
      "\u001b[1;31mPlease review the code in the cell(s) to identify a possible cause of the failure. \n",
      "\u001b[1;31mClick <a href='https://aka.ms/vscodeJupyterKernelCrash'>here</a> for more info. \n",
      "\u001b[1;31mView Jupyter <a href='command:jupyter.viewOutput'>log</a> for further details."
     ]
    }
   ],
   "source": [
    "# nacht\n",
    "night_stats = (\n",
    "    df_full[df_full['night']]\n",
    "      .groupby('station_name')['delta']\n",
    "      .agg(avg_delta_station_night='mean', var_delta_station_night='var')\n",
    "      .reset_index()\n",
    ")\n",
    "\n",
    "df_full = df_full.merge(night_stats, on='station_name', how='left')\n",
    "\n",
    "night_stats = (\n",
    "    df_full[df_full['night']]\n",
    "      .groupby('station_name')['arrivals']\n",
    "      .agg(avg_arrivals_station_night='mean', var_arrivals_station_night='var')\n",
    "      .reset_index()\n",
    ")\n",
    "\n",
    "df_full = df_full.merge(night_stats, on='station_name', how='left')\n",
    "\n",
    "\n",
    "night_stats = (\n",
    "    df_full[df_full['night']]\n",
    "      .groupby('station_name')['departures']\n",
    "      .agg(avg_departures_station_night='mean', var_departures_station_night='var')\n",
    "      .reset_index()\n",
    ")\n",
    "\n",
    "df_full = df_full.merge(night_stats, on='station_name', how='left')"
   ]
  },
  {
   "cell_type": "code",
   "execution_count": null,
   "metadata": {},
   "outputs": [],
   "source": [
    "# nicht nacht\n",
    "night_stats = (\n",
    "    df_full[df_full['night'] == False]\n",
    "      .groupby('station_name')['delta']\n",
    "      .agg(avg_delta_station_nonnight='mean', var_delta_station_nonnight='var')\n",
    "      .reset_index()\n",
    ")\n",
    "\n",
    "df_full = df_full.merge(night_stats, on='station_name', how='left')\n",
    "\n",
    "night_stats = (\n",
    "    df_full[df_full['night'] == False]\n",
    "      .groupby('station_name')['arrivals']\n",
    "      .agg(avg_arrivals_station_nonnight='mean', var_arrivals_station_nonnight='var')\n",
    "      .reset_index()\n",
    ")\n",
    "\n",
    "df_full = df_full.merge(night_stats, on='station_name', how='left')\n",
    "\n",
    "\n",
    "night_stats = (\n",
    "    df_full[df_full['night'] == False]\n",
    "      .groupby('station_name')['departures']\n",
    "      .agg(avg_departures_station_nonnight='mean', var_departures_station_nonnight='var')\n",
    "      .reset_index()\n",
    ")\n",
    "\n",
    "df_full = df_full.merge(night_stats, on='station_name', how='left')"
   ]
  },
  {
   "cell_type": "code",
   "execution_count": null,
   "metadata": {},
   "outputs": [],
   "source": [
    "# feiertage\n",
    "stats = (\n",
    "    df_full[df_full['isHoliday']]\n",
    "      .groupby('station_name')['delta']\n",
    "      .agg(avg_delta_station_holiday='mean', var_delta_station_holiday='var')\n",
    "      .reset_index()\n",
    ")\n",
    "\n",
    "df_full = df_full.merge(stats, on='station_name', how='left')\n",
    "\n",
    "stats = (\n",
    "    df_full[df_full['isHoliday']]\n",
    "      .groupby('station_name')['arrivals']\n",
    "      .agg(avg_arrivals_station_holiday='mean', var_arrivals_station_holiday='var')\n",
    "      .reset_index()\n",
    ")\n",
    "\n",
    "df_full = df_full.merge(stats, on='station_name', how='left')\n",
    "\n",
    "\n",
    "stats = (\n",
    "    df_full[df_full['isHoliday']]\n",
    "      .groupby('station_name')['departures']\n",
    "      .agg(avg_departures_station_holiday='mean', var_departures_station_holiday='var')\n",
    "      .reset_index()\n",
    ")\n",
    "\n",
    "df_full = df_full.merge(stats, on='station_name', how='left')"
   ]
  },
  {
   "cell_type": "code",
   "execution_count": null,
   "metadata": {},
   "outputs": [],
   "source": [
    "# commute\n",
    "\n",
    "stats = (\n",
    "    df_full[df_full['commute']]\n",
    "      .groupby('station_name')['delta']\n",
    "      .agg(avg_delta_station_commute='mean', var_delta_station_commute='var')\n",
    "      .reset_index()\n",
    ")\n",
    "\n",
    "df_full = df_full.merge(stats, on='station_name', how='left')\n",
    "\n",
    "stats = (\n",
    "    df_full[df_full['commute']]\n",
    "      .groupby('station_name')['arrivals']\n",
    "      .agg(avg_arrivals_station_commute='mean', var_arrivals_station_commute='var')\n",
    "      .reset_index()\n",
    ")\n",
    "\n",
    "df_full = df_full.merge(stats, on='station_name', how='left')\n",
    "\n",
    "\n",
    "stats = (\n",
    "    df_full[df_full['commute']]\n",
    "      .groupby('station_name')['departures']\n",
    "      .agg(avg_departures_station_commute='mean', var_departures_station_commute='var')\n",
    "      .reset_index()\n",
    ")\n",
    "\n",
    "df_full = df_full.merge(stats, on='station_name', how='left')"
   ]
  },
  {
   "cell_type": "code",
   "execution_count": null,
   "metadata": {},
   "outputs": [],
   "source": [
    "# free\n",
    "\n",
    "stats = (\n",
    "    df_full[df_full['free']]\n",
    "      .groupby('station_name')['delta']\n",
    "      .agg(avg_delta_station_free='mean', var_delta_station_free='var')\n",
    "      .reset_index()\n",
    ")\n",
    "\n",
    "df_full = df_full.merge(stats, on='station_name', how='left')\n",
    "\n",
    "stats = (\n",
    "    df_full[df_full['free']]\n",
    "      .groupby('station_name')['arrivals']\n",
    "      .agg(avg_arrivals_station_free='mean', var_arrivals_station_free='var')\n",
    "      .reset_index()\n",
    ")\n",
    "\n",
    "df_full = df_full.merge(stats, on='station_name', how='left')\n",
    "\n",
    "\n",
    "stats = (\n",
    "    df_full[df_full['free']]\n",
    "      .groupby('station_name')['departures']\n",
    "      .agg(avg_departures_station_free='mean', var_departures_station_free='var')\n",
    "      .reset_index()\n",
    ")\n",
    "\n",
    "df_full = df_full.merge(stats, on='station_name', how='left')"
   ]
  },
  {
   "cell_type": "code",
   "execution_count": null,
   "metadata": {},
   "outputs": [],
   "source": [
    "# average delta für stunden mit niederschlag (precipitation > 0 oder windgeschwindigkeit über 10)?\n",
    "\n",
    "mask = (df_full['precipitation'] > 0) | (df_full['windspeed'] > 10)\n",
    "\n",
    "stats = (\n",
    "    df_full[mask]\n",
    "      .groupby('station_name')['delta']\n",
    "      .agg(avg_delta_station_unfriendly_weather='mean', var_delta_station_unfriendly_weather='var')\n",
    "      .reset_index()\n",
    ")\n",
    "\n",
    "df_full = df_full.merge(stats, on='station_name', how='left')\n",
    "\n",
    "stats = (\n",
    "    df_full[mask]\n",
    "      .groupby('station_name')['arrivals']\n",
    "      .agg(avg_arrivals_station_unfriendly_weather='mean', var_arrivals_station_unfriendly_weather='var')\n",
    "      .reset_index()\n",
    ")\n",
    "\n",
    "df_full = df_full.merge(stats, on='station_name', how='left')\n",
    "\n",
    "\n",
    "stats = (\n",
    "    df_full[mask]\n",
    "      .groupby('station_name')['departures']\n",
    "      .agg(avg_departures_station_unfriendly_weather='mean', var_departures_station_unfriendly_weather='var')\n",
    "      .reset_index()\n",
    ")\n",
    "\n",
    "df_full = df_full.merge(stats, on='station_name', how='left')"
   ]
  }
 ],
 "metadata": {
  "kernelspec": {
   "display_name": "bike-project",
   "language": "python",
   "name": "python3"
  },
  "language_info": {
   "codemirror_mode": {
    "name": "ipython",
    "version": 3
   },
   "file_extension": ".py",
   "mimetype": "text/x-python",
   "name": "python",
   "nbconvert_exporter": "python",
   "pygments_lexer": "ipython3",
   "version": "3.11.11"
  }
 },
 "nbformat": 4,
 "nbformat_minor": 2
}
